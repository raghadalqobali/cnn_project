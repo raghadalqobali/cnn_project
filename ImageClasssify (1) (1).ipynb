{
  "nbformat": 4,
  "nbformat_minor": 0,
  "metadata": {
    "colab": {
      "provenance": [],
      "collapsed_sections": []
    },
    "kernelspec": {
      "name": "python3",
      "display_name": "Python 3"
    },
    "language_info": {
      "name": "python"
    },
    "accelerator": "GPU"
  },
  "cells": [
    {
      "cell_type": "code",
      "execution_count": 1,
      "metadata": {
        "colab": {
          "base_uri": "https://localhost:8080/"
        },
        "id": "qJiM28nfBgzA",
        "outputId": "7f678123-3536-4f9d-9541-ac77956f3a09"
      },
      "outputs": [
        {
          "output_type": "stream",
          "name": "stdout",
          "text": [
            "Drive already mounted at /content/drive; to attempt to forcibly remount, call drive.mount(\"/content/drive\", force_remount=True).\n"
          ]
        }
      ],
      "source": [
        "from google.colab import drive\n",
        "drive.mount('/content/drive')\n",
        "import zipfile\n",
        "import os\n",
        "import csv\n",
        "import pandas as pd\n",
        "\n",
        "zip_ref = zipfile.ZipFile('/content/drive/MyDrive/aerial-cactus-identification2.zip', 'r') #Opens the zip file in read mode\n",
        "zip_ref.extractall(\"/tmp\")\n",
        "zip_ref.close()\n"
      ]
    },
    {
      "cell_type": "markdown",
      "source": [
        "Importing Library and Data\n"
      ],
      "metadata": {
        "id": "RhkF0N2UorrO"
      }
    },
    {
      "cell_type": "code",
      "source": [
        "import pandas as pd \n",
        "import matplotlib.pyplot as plt \n",
        "import torch\n",
        "import torch.nn.functional as F\n",
        "import torchvision\n",
        "import torchvision.transforms as transforms\n",
        "\n",
        "from torch.utils.data import Dataset, DataLoader\n",
        "from sklearn.model_selection import train_test_split\n",
        "\n",
        "%matplotlib inline"
      ],
      "metadata": {
        "id": "H0ATAXcIC_J5"
      },
      "execution_count": 2,
      "outputs": []
    },
    {
      "cell_type": "code",
      "source": [
        "import os\n",
        "os.getcwd()\n",
        "# place the files in your IDE working dicrectory .\n",
        "labels = pd.read_csv(r'/tmp/aerial-cactus-identification/train.csv')\n",
        "submission = pd.read_csv(r'/tmp/aerial-cactus-identification/sample_submission.csv')\n",
        "\n",
        "train_path = \"/tmp/aerial-cactus-identification/train/\"\n",
        "test_path = \"/tmp/aerial-cactus-identification/test/\""
      ],
      "metadata": {
        "id": "JARESR78E2l9"
      },
      "execution_count": 3,
      "outputs": []
    },
    {
      "cell_type": "code",
      "source": [
        "labels.head()"
      ],
      "metadata": {
        "colab": {
          "base_uri": "https://localhost:8080/",
          "height": 206
        },
        "id": "I0hQaZuJFkEt",
        "outputId": "619bd177-f6de-41cc-b8f8-c249b62fe604"
      },
      "execution_count": 4,
      "outputs": [
        {
          "output_type": "execute_result",
          "data": {
            "text/plain": [
              "                                     id  has_cactus\n",
              "0  0004be2cfeaba1c0361d39e2b000257b.jpg           1\n",
              "1  000c8a36845c0208e833c79c1bffedd1.jpg           1\n",
              "2  000d1e9a533f62e55c289303b072733d.jpg           1\n",
              "3  0011485b40695e9138e92d0b3fb55128.jpg           1\n",
              "4  0014d7a11e90b62848904c1418fc8cf2.jpg           1"
            ],
            "text/html": [
              "\n",
              "  <div id=\"df-7413d01d-ddea-41d7-91df-94ed3d713653\">\n",
              "    <div class=\"colab-df-container\">\n",
              "      <div>\n",
              "<style scoped>\n",
              "    .dataframe tbody tr th:only-of-type {\n",
              "        vertical-align: middle;\n",
              "    }\n",
              "\n",
              "    .dataframe tbody tr th {\n",
              "        vertical-align: top;\n",
              "    }\n",
              "\n",
              "    .dataframe thead th {\n",
              "        text-align: right;\n",
              "    }\n",
              "</style>\n",
              "<table border=\"1\" class=\"dataframe\">\n",
              "  <thead>\n",
              "    <tr style=\"text-align: right;\">\n",
              "      <th></th>\n",
              "      <th>id</th>\n",
              "      <th>has_cactus</th>\n",
              "    </tr>\n",
              "  </thead>\n",
              "  <tbody>\n",
              "    <tr>\n",
              "      <th>0</th>\n",
              "      <td>0004be2cfeaba1c0361d39e2b000257b.jpg</td>\n",
              "      <td>1</td>\n",
              "    </tr>\n",
              "    <tr>\n",
              "      <th>1</th>\n",
              "      <td>000c8a36845c0208e833c79c1bffedd1.jpg</td>\n",
              "      <td>1</td>\n",
              "    </tr>\n",
              "    <tr>\n",
              "      <th>2</th>\n",
              "      <td>000d1e9a533f62e55c289303b072733d.jpg</td>\n",
              "      <td>1</td>\n",
              "    </tr>\n",
              "    <tr>\n",
              "      <th>3</th>\n",
              "      <td>0011485b40695e9138e92d0b3fb55128.jpg</td>\n",
              "      <td>1</td>\n",
              "    </tr>\n",
              "    <tr>\n",
              "      <th>4</th>\n",
              "      <td>0014d7a11e90b62848904c1418fc8cf2.jpg</td>\n",
              "      <td>1</td>\n",
              "    </tr>\n",
              "  </tbody>\n",
              "</table>\n",
              "</div>\n",
              "      <button class=\"colab-df-convert\" onclick=\"convertToInteractive('df-7413d01d-ddea-41d7-91df-94ed3d713653')\"\n",
              "              title=\"Convert this dataframe to an interactive table.\"\n",
              "              style=\"display:none;\">\n",
              "        \n",
              "  <svg xmlns=\"http://www.w3.org/2000/svg\" height=\"24px\"viewBox=\"0 0 24 24\"\n",
              "       width=\"24px\">\n",
              "    <path d=\"M0 0h24v24H0V0z\" fill=\"none\"/>\n",
              "    <path d=\"M18.56 5.44l.94 2.06.94-2.06 2.06-.94-2.06-.94-.94-2.06-.94 2.06-2.06.94zm-11 1L8.5 8.5l.94-2.06 2.06-.94-2.06-.94L8.5 2.5l-.94 2.06-2.06.94zm10 10l.94 2.06.94-2.06 2.06-.94-2.06-.94-.94-2.06-.94 2.06-2.06.94z\"/><path d=\"M17.41 7.96l-1.37-1.37c-.4-.4-.92-.59-1.43-.59-.52 0-1.04.2-1.43.59L10.3 9.45l-7.72 7.72c-.78.78-.78 2.05 0 2.83L4 21.41c.39.39.9.59 1.41.59.51 0 1.02-.2 1.41-.59l7.78-7.78 2.81-2.81c.8-.78.8-2.07 0-2.86zM5.41 20L4 18.59l7.72-7.72 1.47 1.35L5.41 20z\"/>\n",
              "  </svg>\n",
              "      </button>\n",
              "      \n",
              "  <style>\n",
              "    .colab-df-container {\n",
              "      display:flex;\n",
              "      flex-wrap:wrap;\n",
              "      gap: 12px;\n",
              "    }\n",
              "\n",
              "    .colab-df-convert {\n",
              "      background-color: #E8F0FE;\n",
              "      border: none;\n",
              "      border-radius: 50%;\n",
              "      cursor: pointer;\n",
              "      display: none;\n",
              "      fill: #1967D2;\n",
              "      height: 32px;\n",
              "      padding: 0 0 0 0;\n",
              "      width: 32px;\n",
              "    }\n",
              "\n",
              "    .colab-df-convert:hover {\n",
              "      background-color: #E2EBFA;\n",
              "      box-shadow: 0px 1px 2px rgba(60, 64, 67, 0.3), 0px 1px 3px 1px rgba(60, 64, 67, 0.15);\n",
              "      fill: #174EA6;\n",
              "    }\n",
              "\n",
              "    [theme=dark] .colab-df-convert {\n",
              "      background-color: #3B4455;\n",
              "      fill: #D2E3FC;\n",
              "    }\n",
              "\n",
              "    [theme=dark] .colab-df-convert:hover {\n",
              "      background-color: #434B5C;\n",
              "      box-shadow: 0px 1px 3px 1px rgba(0, 0, 0, 0.15);\n",
              "      filter: drop-shadow(0px 1px 2px rgba(0, 0, 0, 0.3));\n",
              "      fill: #FFFFFF;\n",
              "    }\n",
              "  </style>\n",
              "\n",
              "      <script>\n",
              "        const buttonEl =\n",
              "          document.querySelector('#df-7413d01d-ddea-41d7-91df-94ed3d713653 button.colab-df-convert');\n",
              "        buttonEl.style.display =\n",
              "          google.colab.kernel.accessAllowed ? 'block' : 'none';\n",
              "\n",
              "        async function convertToInteractive(key) {\n",
              "          const element = document.querySelector('#df-7413d01d-ddea-41d7-91df-94ed3d713653');\n",
              "          const dataTable =\n",
              "            await google.colab.kernel.invokeFunction('convertToInteractive',\n",
              "                                                     [key], {});\n",
              "          if (!dataTable) return;\n",
              "\n",
              "          const docLinkHtml = 'Like what you see? Visit the ' +\n",
              "            '<a target=\"_blank\" href=https://colab.research.google.com/notebooks/data_table.ipynb>data table notebook</a>'\n",
              "            + ' to learn more about interactive tables.';\n",
              "          element.innerHTML = '';\n",
              "          dataTable['output_type'] = 'display_data';\n",
              "          await google.colab.output.renderOutput(dataTable, element);\n",
              "          const docLink = document.createElement('div');\n",
              "          docLink.innerHTML = docLinkHtml;\n",
              "          element.appendChild(docLink);\n",
              "        }\n",
              "      </script>\n",
              "    </div>\n",
              "  </div>\n",
              "  "
            ]
          },
          "metadata": {},
          "execution_count": 4
        }
      ]
    },
    {
      "cell_type": "code",
      "source": [
        "labels.tail()"
      ],
      "metadata": {
        "colab": {
          "base_uri": "https://localhost:8080/",
          "height": 206
        },
        "id": "3sfrH772oMlg",
        "outputId": "a705ea8d-0e96-462f-af04-df532038bdb2"
      },
      "execution_count": 5,
      "outputs": [
        {
          "output_type": "execute_result",
          "data": {
            "text/plain": [
              "                                         id  has_cactus\n",
              "17495  ffede47a74e47a5930f81c0b6896479e.jpg           0\n",
              "17496  ffef6382a50d23251d4bc05519c91037.jpg           1\n",
              "17497  fff059ecc91b30be5745e8b81111dc7b.jpg           1\n",
              "17498  fff43acb3b7a23edcc4ae937be2b7522.jpg           0\n",
              "17499  fffd9e9b990eba07c836745d8aef1a3a.jpg           1"
            ],
            "text/html": [
              "\n",
              "  <div id=\"df-2e497da6-7f96-4675-a75a-1ea9bed64ba6\">\n",
              "    <div class=\"colab-df-container\">\n",
              "      <div>\n",
              "<style scoped>\n",
              "    .dataframe tbody tr th:only-of-type {\n",
              "        vertical-align: middle;\n",
              "    }\n",
              "\n",
              "    .dataframe tbody tr th {\n",
              "        vertical-align: top;\n",
              "    }\n",
              "\n",
              "    .dataframe thead th {\n",
              "        text-align: right;\n",
              "    }\n",
              "</style>\n",
              "<table border=\"1\" class=\"dataframe\">\n",
              "  <thead>\n",
              "    <tr style=\"text-align: right;\">\n",
              "      <th></th>\n",
              "      <th>id</th>\n",
              "      <th>has_cactus</th>\n",
              "    </tr>\n",
              "  </thead>\n",
              "  <tbody>\n",
              "    <tr>\n",
              "      <th>17495</th>\n",
              "      <td>ffede47a74e47a5930f81c0b6896479e.jpg</td>\n",
              "      <td>0</td>\n",
              "    </tr>\n",
              "    <tr>\n",
              "      <th>17496</th>\n",
              "      <td>ffef6382a50d23251d4bc05519c91037.jpg</td>\n",
              "      <td>1</td>\n",
              "    </tr>\n",
              "    <tr>\n",
              "      <th>17497</th>\n",
              "      <td>fff059ecc91b30be5745e8b81111dc7b.jpg</td>\n",
              "      <td>1</td>\n",
              "    </tr>\n",
              "    <tr>\n",
              "      <th>17498</th>\n",
              "      <td>fff43acb3b7a23edcc4ae937be2b7522.jpg</td>\n",
              "      <td>0</td>\n",
              "    </tr>\n",
              "    <tr>\n",
              "      <th>17499</th>\n",
              "      <td>fffd9e9b990eba07c836745d8aef1a3a.jpg</td>\n",
              "      <td>1</td>\n",
              "    </tr>\n",
              "  </tbody>\n",
              "</table>\n",
              "</div>\n",
              "      <button class=\"colab-df-convert\" onclick=\"convertToInteractive('df-2e497da6-7f96-4675-a75a-1ea9bed64ba6')\"\n",
              "              title=\"Convert this dataframe to an interactive table.\"\n",
              "              style=\"display:none;\">\n",
              "        \n",
              "  <svg xmlns=\"http://www.w3.org/2000/svg\" height=\"24px\"viewBox=\"0 0 24 24\"\n",
              "       width=\"24px\">\n",
              "    <path d=\"M0 0h24v24H0V0z\" fill=\"none\"/>\n",
              "    <path d=\"M18.56 5.44l.94 2.06.94-2.06 2.06-.94-2.06-.94-.94-2.06-.94 2.06-2.06.94zm-11 1L8.5 8.5l.94-2.06 2.06-.94-2.06-.94L8.5 2.5l-.94 2.06-2.06.94zm10 10l.94 2.06.94-2.06 2.06-.94-2.06-.94-.94-2.06-.94 2.06-2.06.94z\"/><path d=\"M17.41 7.96l-1.37-1.37c-.4-.4-.92-.59-1.43-.59-.52 0-1.04.2-1.43.59L10.3 9.45l-7.72 7.72c-.78.78-.78 2.05 0 2.83L4 21.41c.39.39.9.59 1.41.59.51 0 1.02-.2 1.41-.59l7.78-7.78 2.81-2.81c.8-.78.8-2.07 0-2.86zM5.41 20L4 18.59l7.72-7.72 1.47 1.35L5.41 20z\"/>\n",
              "  </svg>\n",
              "      </button>\n",
              "      \n",
              "  <style>\n",
              "    .colab-df-container {\n",
              "      display:flex;\n",
              "      flex-wrap:wrap;\n",
              "      gap: 12px;\n",
              "    }\n",
              "\n",
              "    .colab-df-convert {\n",
              "      background-color: #E8F0FE;\n",
              "      border: none;\n",
              "      border-radius: 50%;\n",
              "      cursor: pointer;\n",
              "      display: none;\n",
              "      fill: #1967D2;\n",
              "      height: 32px;\n",
              "      padding: 0 0 0 0;\n",
              "      width: 32px;\n",
              "    }\n",
              "\n",
              "    .colab-df-convert:hover {\n",
              "      background-color: #E2EBFA;\n",
              "      box-shadow: 0px 1px 2px rgba(60, 64, 67, 0.3), 0px 1px 3px 1px rgba(60, 64, 67, 0.15);\n",
              "      fill: #174EA6;\n",
              "    }\n",
              "\n",
              "    [theme=dark] .colab-df-convert {\n",
              "      background-color: #3B4455;\n",
              "      fill: #D2E3FC;\n",
              "    }\n",
              "\n",
              "    [theme=dark] .colab-df-convert:hover {\n",
              "      background-color: #434B5C;\n",
              "      box-shadow: 0px 1px 3px 1px rgba(0, 0, 0, 0.15);\n",
              "      filter: drop-shadow(0px 1px 2px rgba(0, 0, 0, 0.3));\n",
              "      fill: #FFFFFF;\n",
              "    }\n",
              "  </style>\n",
              "\n",
              "      <script>\n",
              "        const buttonEl =\n",
              "          document.querySelector('#df-2e497da6-7f96-4675-a75a-1ea9bed64ba6 button.colab-df-convert');\n",
              "        buttonEl.style.display =\n",
              "          google.colab.kernel.accessAllowed ? 'block' : 'none';\n",
              "\n",
              "        async function convertToInteractive(key) {\n",
              "          const element = document.querySelector('#df-2e497da6-7f96-4675-a75a-1ea9bed64ba6');\n",
              "          const dataTable =\n",
              "            await google.colab.kernel.invokeFunction('convertToInteractive',\n",
              "                                                     [key], {});\n",
              "          if (!dataTable) return;\n",
              "\n",
              "          const docLinkHtml = 'Like what you see? Visit the ' +\n",
              "            '<a target=\"_blank\" href=https://colab.research.google.com/notebooks/data_table.ipynb>data table notebook</a>'\n",
              "            + ' to learn more about interactive tables.';\n",
              "          element.innerHTML = '';\n",
              "          dataTable['output_type'] = 'display_data';\n",
              "          await google.colab.output.renderOutput(dataTable, element);\n",
              "          const docLink = document.createElement('div');\n",
              "          docLink.innerHTML = docLinkHtml;\n",
              "          element.appendChild(docLink);\n",
              "        }\n",
              "      </script>\n",
              "    </div>\n",
              "  </div>\n",
              "  "
            ]
          },
          "metadata": {},
          "execution_count": 5
        }
      ]
    },
    {
      "cell_type": "code",
      "source": [
        "labels['has_cactus'].value_counts()"
      ],
      "metadata": {
        "colab": {
          "base_uri": "https://localhost:8080/"
        },
        "id": "a2DYqZbyocrs",
        "outputId": "3ef39d61-d2c7-4ff3-98a9-ce6192f8a863"
      },
      "execution_count": 6,
      "outputs": [
        {
          "output_type": "execute_result",
          "data": {
            "text/plain": [
              "1    13136\n",
              "0     4364\n",
              "Name: has_cactus, dtype: int64"
            ]
          },
          "metadata": {},
          "execution_count": 6
        }
      ]
    },
    {
      "cell_type": "code",
      "source": [
        "label = 'Has Cactus', 'Hasn\\'t Cactus'\n",
        "plt.figure(figsize = (8,8))\n",
        "plt.pie(labels.groupby('has_cactus').size(), labels = label, autopct='%1.1f%%', shadow=True, startangle=90)\n",
        "plt.show()"
      ],
      "metadata": {
        "colab": {
          "base_uri": "https://localhost:8080/",
          "height": 466
        },
        "id": "0p-eCN9kofsS",
        "outputId": "cfc21177-0de5-4f48-8e3b-2f966c221200"
      },
      "execution_count": 7,
      "outputs": [
        {
          "output_type": "display_data",
          "data": {
            "text/plain": [
              "<Figure size 576x576 with 1 Axes>"
            ],
            "image/png": "[encoded data removed]"
          },
          "metadata": {}
        }
      ]
    },
    {
      "cell_type": "markdown",
      "source": [
        "Image Pre-processing\n"
      ],
      "metadata": {
        "id": "zraZu7Bwoty9"
      }
    },
    {
      "cell_type": "code",
      "source": [
        "import matplotlib.image as img\n",
        "fig,ax = plt.subplots(1,5,figsize = (15,3))\n",
        "\n",
        "for i,idx in enumerate(labels[labels['has_cactus'] == 1]['id'][-5:]):\n",
        "    path = os.path.join(train_path,idx)\n",
        "    ax[i].imshow(img.imread(path))"
      ],
      "metadata": {
        "colab": {
          "base_uri": "https://localhost:8080/",
          "height": 194
        },
        "id": "qhO9TQ7CokSV",
        "outputId": "8be8cf02-298a-4517-fe49-e26b28b4bbd1"
      },
      "execution_count": 8,
      "outputs": [
        {
          "output_type": "display_data",
          "data": {
            "text/plain": [
              "<Figure size 1080x216 with 5 Axes>"
            ],
            "image/png": "[encoded data removed]"
          },
          "metadata": {
            "needs_background": "light"
          }
        }
      ]
    },
    {
      "cell_type": "code",
      "source": [
        "fig,ax = plt.subplots(1,5,figsize = (15,3))\n",
        "for i,idx in enumerate(labels[labels['has_cactus'] == 0]['id'][:5]):\n",
        "    path = os.path.join(train_path,idx)\n",
        "    ax[i].imshow(img.imread(path))"
      ],
      "metadata": {
        "colab": {
          "base_uri": "https://localhost:8080/",
          "height": 194
        },
        "id": "zSFxbO11o1XG",
        "outputId": "5a532e4a-6186-4663-f347-bb165f792a13"
      },
      "execution_count": 9,
      "outputs": [
        {
          "output_type": "display_data",
          "data": {
            "text/plain": [
              "<Figure size 1080x216 with 5 Axes>"
            ],
            "image/png": "[encoded data removed]"
          },
          "metadata": {
            "needs_background": "light"
          }
        }
      ]
    },
    {
      "cell_type": "code",
      "source": [
        "import numpy as np\n",
        "import matplotlib.pyplot as plt\n",
        "\n",
        "def imshow(image, ax=None, title=None, normalize=True):\n",
        "    if ax is None:\n",
        "        fig, ax = plt.subplots()\n",
        "    image = image.numpy().transpose((1, 2, 0))\n",
        "\n",
        "    if normalize:\n",
        "        mean = np.array([0.485, 0.456, 0.406])\n",
        "        std = np.array([0.229, 0.224, 0.225])\n",
        "        image = std * image + mean\n",
        "        image = np.clip(image, 0, 1)\n",
        "\n",
        "    ax.imshow(image)\n",
        "    ax.spines['top'].set_visible(False)\n",
        "    ax.spines['right'].set_visible(False)\n",
        "    ax.spines['left'].set_visible(False)\n",
        "    ax.spines['bottom'].set_visible(False)\n",
        "    ax.tick_params(axis='both', length=0)\n",
        "    ax.set_xticklabels('')\n",
        "    ax.set_yticklabels('')\n",
        "\n",
        "    return ax"
      ],
      "metadata": {
        "id": "S6mmZ1zq5UKe"
      },
      "execution_count": 10,
      "outputs": []
    },
    {
      "cell_type": "code",
      "source": [
        "class CactiDataset(Dataset):\n",
        "    def __init__(self, data, path , transform = None):\n",
        "        super().__init__()\n",
        "        self.data = data.values\n",
        "        self.path = path\n",
        "        self.transform = transform\n",
        "        \n",
        "    def __len__(self):\n",
        "        return len(self.data)\n",
        "    \n",
        "    def __getitem__(self,index):\n",
        "        img_name,label = self.data[index]\n",
        "        img_path = os.path.join(self.path, img_name)\n",
        "        image = img.imread(img_path)\n",
        "        if self.transform is not None:\n",
        "            image = self.transform(image)\n",
        "        return image, label"
      ],
      "metadata": {
        "id": "LcaZWMHR5XfF"
      },
      "execution_count": 11,
      "outputs": []
    },
    {
      "cell_type": "markdown",
      "source": [
        "Normalization"
      ],
      "metadata": {
        "id": "5TR96DLp5j8f"
      }
    },
    {
      "cell_type": "code",
      "source": [
        "mean = np.array([0.485, 0.456, 0.406])\n",
        "std = np.array([0.229, 0.224, 0.225])\n",
        "\n",
        "train_transform = transforms.Compose([transforms.ToPILImage(),\n",
        "                                      transforms.ToTensor(),\n",
        "                                      transforms.Normalize(mean,std)])\n",
        "\n",
        "test_transform = transforms.Compose([transforms.ToPILImage(),\n",
        "                                     transforms.ToTensor(),\n",
        "                                     transforms.Normalize(mean,std)])\n",
        "\n",
        "valid_transform = transforms.Compose([transforms.ToPILImage(),\n",
        "                                     transforms.ToTensor(),\n",
        "                                     transforms.Normalize(mean,std)])"
      ],
      "metadata": {
        "id": "GZdtw9wd5a9H"
      },
      "execution_count": 12,
      "outputs": []
    },
    {
      "cell_type": "markdown",
      "source": [
        "Splitting the Dataset"
      ],
      "metadata": {
        "id": "0LRf-n8zbFoS"
      }
    },
    {
      "cell_type": "code",
      "source": [
        "train, valid_data = train_test_split(labels, stratify=labels.has_cactus, test_size=0.2)"
      ],
      "metadata": {
        "id": "JM9FUj4V5nGI"
      },
      "execution_count": 13,
      "outputs": []
    },
    {
      "cell_type": "code",
      "source": [
        "train_data = CactiDataset(train, train_path, train_transform )\n",
        "valid_data = CactiDataset(valid_data, train_path, valid_transform )\n",
        "test_data = CactiDataset(submission, test_path, test_transform )"
      ],
      "metadata": {
        "id": "FF8FQc8ObKpT"
      },
      "execution_count": 14,
      "outputs": []
    },
    {
      "cell_type": "code",
      "source": [
        "# Hyper parameters\n",
        "\n",
        "num_epochs = 35\n",
        "num_classes = 2\n",
        "batch_size = 25\n",
        "learning_rate = 0.001"
      ],
      "metadata": {
        "id": "beCh6rUUbO4J"
      },
      "execution_count": 15,
      "outputs": []
    },
    {
      "cell_type": "code",
      "source": [
        "# CPU or GPU\n",
        "\n",
        "device = torch.device('cuda:0' if torch.cuda.is_available() else 'cpu')\n",
        "device"
      ],
      "metadata": {
        "colab": {
          "base_uri": "https://localhost:8080/"
        },
        "id": "xTB9IsWxbSiq",
        "outputId": "049118df-3068-4732-a517-cb26f12cfeff"
      },
      "execution_count": 16,
      "outputs": [
        {
          "output_type": "execute_result",
          "data": {
            "text/plain": [
              "device(type='cuda', index=0)"
            ]
          },
          "metadata": {},
          "execution_count": 16
        }
      ]
    },
    {
      "cell_type": "code",
      "source": [
        "train_loader = DataLoader(dataset = train_data, batch_size = batch_size, shuffle=True, num_workers=0)\n",
        "valid_loader = DataLoader(dataset = valid_data, batch_size = batch_size, shuffle=False, num_workers=0)\n",
        "test_loader = DataLoader(dataset = test_data, batch_size = batch_size,shuffle=False, num_workers=0)"
      ],
      "metadata": {
        "id": "_Go_L4OubWes"
      },
      "execution_count": 17,
      "outputs": []
    },
    {
      "cell_type": "code",
      "source": [
        "import numpy as np\n",
        "import matplotlib.pyplot as plt\n",
        "\n",
        "def imshow(image, ax=None, title=None, normalize=True):\n",
        "    if ax is None:\n",
        "        fig, ax = plt.subplots()\n",
        "    image = image.numpy().transpose((1, 2, 0))\n",
        "\n",
        "    if normalize:\n",
        "        mean = np.array([0.485, 0.456, 0.406])\n",
        "        std = np.array([0.229, 0.224, 0.225])\n",
        "        image = std * image + mean\n",
        "        image = np.clip(image, 0, 1)\n",
        "\n",
        "    ax.imshow(image)\n",
        "    ax.spines['top'].set_visible(False)\n",
        "    ax.spines['right'].set_visible(False)\n",
        "    ax.spines['left'].set_visible(False)\n",
        "    ax.spines['bottom'].set_visible(False)\n",
        "    ax.tick_params(axis='both', length=0)\n",
        "    ax.set_xticklabels('')\n",
        "    ax.set_yticklabels('')\n",
        "\n",
        "    return ax"
      ],
      "metadata": {
        "id": "gj2nbIzTcJWh"
      },
      "execution_count": 18,
      "outputs": []
    },
    {
      "cell_type": "code",
      "source": [
        "trainimages, trainlabels = next(iter(train_loader))\n",
        "\n",
        "fig, axes = plt.subplots(figsize=(12, 12), ncols=5)\n",
        "print('training images')\n",
        "for i in range(5):\n",
        "    axe1 = axes[i] \n",
        "    imshow(trainimages[i], ax=axe1, normalize=False)\n",
        "\n",
        "print(trainimages[0].size())"
      ],
      "metadata": {
        "colab": {
          "base_uri": "https://localhost:8080/",
          "height": 295
        },
        "id": "TJK-OesmcpdO",
        "outputId": "9b1af2b0-de63-46ac-c41f-137331dc4bd2"
      },
      "execution_count": 19,
      "outputs": [
        {
          "output_type": "stream",
          "name": "stderr",
          "text": [
            "WARNING:matplotlib.image:Clipping input data to the valid range for imshow with RGB data ([0..1] for floats or [0..255] for integers).\n",
            "WARNING:matplotlib.image:Clipping input data to the valid range for imshow with RGB data ([0..1] for floats or [0..255] for integers).\n",
            "WARNING:matplotlib.image:Clipping input data to the valid range for imshow with RGB data ([0..1] for floats or [0..255] for integers).\n",
            "WARNING:matplotlib.image:Clipping input data to the valid range for imshow with RGB data ([0..1] for floats or [0..255] for integers).\n",
            "WARNING:matplotlib.image:Clipping input data to the valid range for imshow with RGB data ([0..1] for floats or [0..255] for integers).\n"
          ]
        },
        {
          "output_type": "stream",
          "name": "stdout",
          "text": [
            "training images\n",
            "torch.Size([3, 32, 32])\n"
          ]
        },
        {
          "output_type": "display_data",
          "data": {
            "text/plain": [
              "<Figure size 864x864 with 5 Axes>"
            ],
            "image/png": "[encoded data removed]"
          },
          "metadata": {
            "needs_background": "light"
          }
        }
      ]
    },
    {
      "cell_type": "code",
      "source": [
        "epochs = 35\n",
        "batch_size = 25\n",
        "learning_rate = 0.001"
      ],
      "metadata": {
        "id": "3MaDgZ-GcsYw"
      },
      "execution_count": 20,
      "outputs": []
    },
    {
      "cell_type": "code",
      "source": [
        "import torch\n",
        "import torch.nn as nn\n",
        "import torch.nn.functional as F\n",
        "\n",
        "class CNN(nn.Module): \n",
        "    def __init__(self):\n",
        "        super(CNN, self).__init__()\n",
        "        self.conv1 = nn.Conv2d(in_channels=3, out_channels=10, kernel_size=3, padding=0, stride=1)\n",
        "        self.conv2 = nn.Conv2d(10, 20, kernel_size=3,padding=0, stride=1)\n",
        "        self.conv2_drop = nn.Dropout2d()\n",
        "        self.fc1 = nn.Linear(720, 1024)\n",
        "        self.fc2 = nn.Linear(1024, 2)\n",
        "\n",
        "    def forward(self, x):\n",
        "        x = F.relu(F.max_pool2d(self.conv1(x), 2))\n",
        "        x = F.relu(F.max_pool2d(self.conv2_drop(self.conv2(x)), 2))\n",
        "        x = x.view(x.shape[0],-1)\n",
        "        x = F.relu(self.fc1(x))\n",
        "        x = F.dropout(x, training=self.training)\n",
        "        x = self.fc2(x)\n",
        "        return x"
      ],
      "metadata": {
        "id": "wh1cxXyEc5bg"
      },
      "execution_count": 22,
      "outputs": []
    },
    {
      "cell_type": "code",
      "source": [
        "model = CNN()\n",
        "print(model)"
      ],
      "metadata": {
        "colab": {
          "base_uri": "https://localhost:8080/"
        },
        "id": "IRCkev0Wc96b",
        "outputId": "a046ba21-05d4-4d97-83a2-d5c593363b7b"
      },
      "execution_count": 23,
      "outputs": [
        {
          "output_type": "stream",
          "name": "stdout",
          "text": [
            "CNN(\n",
            "  (conv1): Conv2d(3, 10, kernel_size=(3, 3), stride=(1, 1))\n",
            "  (conv2): Conv2d(10, 20, kernel_size=(3, 3), stride=(1, 1))\n",
            "  (conv2_drop): Dropout2d(p=0.5, inplace=False)\n",
            "  (fc1): Linear(in_features=720, out_features=1024, bias=True)\n",
            "  (fc2): Linear(in_features=1024, out_features=2, bias=True)\n",
            ")\n"
          ]
        }
      ]
    },
    {
      "cell_type": "code",
      "source": [
        "model = CNN().to(device)\n",
        "criterion = nn.CrossEntropyLoss()\n",
        "optimizer = torch.optim.Adam(model.parameters(),lr = learning_rate)"
      ],
      "metadata": {
        "id": "uxq7iPzIdEaC"
      },
      "execution_count": 25,
      "outputs": []
    },
    {
      "cell_type": "code",
      "source": [
        "%%time\n",
        "# keeping-track-of-losses \n",
        "train_losses = []\n",
        "valid_losses = []\n",
        "\n",
        "for epoch in range(1, num_epochs + 1):\n",
        "    # keep-track-of-training-and-validation-loss\n",
        "    train_loss = 0.0\n",
        "    valid_loss = 0.0\n",
        "    \n",
        "    # training-the-model\n",
        "    model.train()\n",
        "    for data, target in train_loader:\n",
        "        # move-tensors-to-GPU \n",
        "        data = data.to(device)\n",
        "        target = target.to(device)\n",
        "        \n",
        "        # clear-the-gradients-of-all-optimized-variables\n",
        "        optimizer.zero_grad()\n",
        "        # forward-pass: compute-predicted-outputs-by-passing-inputs-to-the-model\n",
        "        output = model(data)\n",
        "        # calculate-the-batch-loss\n",
        "        loss = criterion(output, target)\n",
        "        # backward-pass: compute-gradient-of-the-loss-wrt-model-parameters\n",
        "        loss.backward()\n",
        "        # perform-a-ingle-optimization-step (parameter-update)\n",
        "        optimizer.step()\n",
        "        # update-training-loss\n",
        "        train_loss += loss.item() * data.size(0)\n",
        "        \n",
        "    # validate-the-model\n",
        "    model.eval()\n",
        "    for data, target in valid_loader:\n",
        "        \n",
        "        data = data.to(device)\n",
        "        target = target.to(device)\n",
        "        \n",
        "        output = model(data)\n",
        "        \n",
        "        loss = criterion(output, target)\n",
        "        \n",
        "        # update-average-validation-loss \n",
        "        valid_loss += loss.item() * data.size(0)\n",
        "    \n",
        "    # calculate-average-losses\n",
        "    train_loss = train_loss/len(train_loader.sampler)\n",
        "    valid_loss = valid_loss/len(valid_loader.sampler)\n",
        "    train_losses.append(train_loss)\n",
        "    valid_losses.append(valid_loss)\n",
        "        \n",
        "    # print-training/validation-statistics \n",
        "    print('Epoch: {} \\tTraining Loss: {:.6f} \\tValidation Loss: {:.6f}'.format(\n",
        "        epoch, train_loss, valid_loss))"
      ],
      "metadata": {
        "colab": {
          "base_uri": "https://localhost:8080/"
        },
        "id": "ntHDoMPKdI-z",
        "outputId": "cdbbe85e-b3e6-44bb-b2b1-f50f36b625a1"
      },
      "execution_count": 26,
      "outputs": [
        {
          "output_type": "stream",
          "name": "stdout",
          "text": [
            "Epoch: 1 \tTraining Loss: 0.189200 \tValidation Loss: 0.071636\n",
            "Epoch: 2 \tTraining Loss: 0.094138 \tValidation Loss: 0.054965\n",
            "Epoch: 3 \tTraining Loss: 0.078825 \tValidation Loss: 0.049467\n",
            "Epoch: 4 \tTraining Loss: 0.068179 \tValidation Loss: 0.064913\n",
            "Epoch: 5 \tTraining Loss: 0.066476 \tValidation Loss: 0.042952\n",
            "Epoch: 6 \tTraining Loss: 0.055996 \tValidation Loss: 0.060109\n",
            "Epoch: 7 \tTraining Loss: 0.059444 \tValidation Loss: 0.042675\n",
            "Epoch: 8 \tTraining Loss: 0.055039 \tValidation Loss: 0.039832\n",
            "Epoch: 9 \tTraining Loss: 0.050248 \tValidation Loss: 0.035387\n",
            "Epoch: 10 \tTraining Loss: 0.049044 \tValidation Loss: 0.041241\n",
            "Epoch: 11 \tTraining Loss: 0.047537 \tValidation Loss: 0.029610\n",
            "Epoch: 12 \tTraining Loss: 0.043148 \tValidation Loss: 0.031823\n",
            "Epoch: 13 \tTraining Loss: 0.046091 \tValidation Loss: 0.042566\n",
            "Epoch: 14 \tTraining Loss: 0.043866 \tValidation Loss: 0.032047\n",
            "Epoch: 15 \tTraining Loss: 0.038227 \tValidation Loss: 0.027124\n",
            "Epoch: 16 \tTraining Loss: 0.039401 \tValidation Loss: 0.033251\n",
            "Epoch: 17 \tTraining Loss: 0.034466 \tValidation Loss: 0.032787\n",
            "Epoch: 18 \tTraining Loss: 0.035644 \tValidation Loss: 0.027682\n",
            "Epoch: 19 \tTraining Loss: 0.031267 \tValidation Loss: 0.027896\n",
            "Epoch: 20 \tTraining Loss: 0.040086 \tValidation Loss: 0.027402\n",
            "Epoch: 21 \tTraining Loss: 0.031452 \tValidation Loss: 0.022746\n",
            "Epoch: 22 \tTraining Loss: 0.030455 \tValidation Loss: 0.034187\n",
            "Epoch: 23 \tTraining Loss: 0.035369 \tValidation Loss: 0.028667\n",
            "Epoch: 24 \tTraining Loss: 0.030442 \tValidation Loss: 0.029147\n",
            "Epoch: 25 \tTraining Loss: 0.034035 \tValidation Loss: 0.027631\n",
            "Epoch: 26 \tTraining Loss: 0.028641 \tValidation Loss: 0.033343\n",
            "Epoch: 27 \tTraining Loss: 0.029792 \tValidation Loss: 0.030086\n",
            "Epoch: 28 \tTraining Loss: 0.023772 \tValidation Loss: 0.031754\n",
            "Epoch: 29 \tTraining Loss: 0.029448 \tValidation Loss: 0.038998\n",
            "Epoch: 30 \tTraining Loss: 0.022203 \tValidation Loss: 0.028652\n",
            "Epoch: 31 \tTraining Loss: 0.024264 \tValidation Loss: 0.033385\n",
            "Epoch: 32 \tTraining Loss: 0.030253 \tValidation Loss: 0.025459\n",
            "Epoch: 33 \tTraining Loss: 0.026338 \tValidation Loss: 0.021882\n",
            "Epoch: 34 \tTraining Loss: 0.028251 \tValidation Loss: 0.021909\n",
            "Epoch: 35 \tTraining Loss: 0.028851 \tValidation Loss: 0.024815\n",
            "CPU times: user 5min 39s, sys: 16.6 s, total: 5min 55s\n",
            "Wall time: 6min\n"
          ]
        }
      ]
    },
    {
      "cell_type": "code",
      "source": [
        "# test-the-model\n",
        "model.eval()  # it-disables-dropout\n",
        "with torch.no_grad():\n",
        "    correct = 0\n",
        "    total = 0\n",
        "    for images, labels in valid_loader:\n",
        "        images = images.to(device)\n",
        "        labels = labels.to(device)\n",
        "        outputs = model(images)\n",
        "        _, predicted = torch.max(outputs.data, 1)\n",
        "        total += labels.size(0)\n",
        "        correct += (predicted == labels).sum().item()\n",
        "          \n",
        "    print('Test Accuracy of the model: {} %'.format(100 * correct / total))\n",
        "\n",
        "# Save \n",
        "torch.save(model.state_dict(), 'model.ckpt')"
      ],
      "metadata": {
        "colab": {
          "base_uri": "https://localhost:8080/"
        },
        "id": "RJ1kk6VjdODw",
        "outputId": "f88db1db-797d-460a-d922-e770a8dfd4de"
      },
      "execution_count": 27,
      "outputs": [
        {
          "output_type": "stream",
          "name": "stdout",
          "text": [
            "Test Accuracy of the model: 99.17142857142858 %\n"
          ]
        }
      ]
    },
    {
      "cell_type": "code",
      "source": [
        "%matplotlib inline\n",
        "%config InlineBackend.figure_format = 'retina'\n",
        "\n",
        "plt.plot(train_losses, label='Training loss')\n",
        "plt.plot(valid_losses, label='Validation loss')\n",
        "plt.xlabel(\"Epochs\")\n",
        "plt.ylabel(\"Loss\")\n",
        "plt.legend(frameon=False)"
      ],
      "metadata": {
        "colab": {
          "base_uri": "https://localhost:8080/",
          "height": 296
        },
        "id": "4Oc9Wzu7g_n3",
        "outputId": "7311f1cb-c4f7-4019-fefc-f26600004948"
      },
      "execution_count": 28,
      "outputs": [
        {
          "output_type": "execute_result",
          "data": {
            "text/plain": [
              "<matplotlib.legend.Legend at 0x7f07c3aa19d0>"
            ]
          },
          "metadata": {},
          "execution_count": 28
        },
        {
          "output_type": "display_data",
          "data": {
            "text/plain": [
              "<Figure size 432x288 with 1 Axes>"
            ],
            "image/png": "[encoded data removed]"
          },
          "metadata": {
            "image/png": {
              "width": 398,
              "height": 261
            },
            "needs_background": "light"
          }
        }
      ]
    },
    {
      "cell_type": "code",
      "source": [
        "torch.save(model.state_dict(), 'model_cnn.pth')"
      ],
      "metadata": {
        "id": "ebOylvqfYhQX"
      },
      "execution_count": 50,
      "outputs": []
    }
  ]
}